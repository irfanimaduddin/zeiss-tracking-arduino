{
 "cells": [
  {
   "cell_type": "markdown",
   "metadata": {},
   "source": [
    "## Perhitungan Nilai Pengaturan Arduino UNO Terbaik Untuk Tracking Teleskop Ganda Zeiss\n",
    "\n",
    "Oleh    : Irfan Imaduddin <br>\n",
    "Tanggal : 29 Oktober 2020 <br>\n",
    "Ref     : Moch. Irfan, 2020 <br>\n",
    "Versi   : 1.0 <br>\n",
    "Kontak  : irfanimaduddin@gmail.com <br>\n",
    "\n",
    "---"
   ]
  },
  {
   "cell_type": "markdown",
   "metadata": {},
   "source": [
    "1. Import modul yang digunakan"
   ]
  },
  {
   "cell_type": "code",
   "execution_count": 5,
   "metadata": {},
   "outputs": [],
   "source": [
    "import numpy as np"
   ]
  },
  {
   "cell_type": "markdown",
   "metadata": {},
   "source": [
    "Dari buku Astronomical Almanac 2020 halaman B9, diketahui bahwa pada tahun 2020,\n",
    "\n",
    "$$\\bar t_{sidereal}\\ (s) = 0.997 269 566 32\\ \\bar t_{solar}\\ (s)$$\n",
    "\n",
    "Spesifikasi perhitungan (patokan Arduino UNO):\n",
    "- $\\Delta t = 62.5$ ns (Resolusi waktu Arduino UNO dengan crystal clock 16 MHz)\n",
    "- Prescale $= 2^3 - 2^{10}$\n",
    "- Count $= 16$ bit $= 65536$ count\n",
    "\n",
    "Spesifikasi perhitungan (tambahan info dari Teleskop Zeiss dan kamera ZWO ASI 224MM):\n",
    "- $F_{teleskop} \\sim 11000$ mm (Panjang fokus Teleskop Zeiss)\n",
    "- $pix_{size} = 3.75\\ \\mu$m (Ukuran piksel kamera)\n",
    "\n",
    "Challenge: Menghitung nilai prescale dan count terdekat serta pergeseran <i>tracking</i> dalam piksel per jam"
   ]
  },
  {
   "cell_type": "markdown",
   "metadata": {},
   "source": [
    "2. Definisikan fungsi untuk menentukan nilai prescaler dan count yang menghasilkan nilai perhitungan terdekat dengan nilai yang diinginkan"
   ]
  },
  {
   "cell_type": "code",
   "execution_count": 32,
   "metadata": {},
   "outputs": [],
   "source": [
    "def find_nearest_val(value, timer=1): \n",
    "    \n",
    "    # Define initial values\n",
    "    res_t     = 62.5 # Time resolution of UNO's crystal clock (nanoseconds) \n",
    "    f_tele    = 11000 # mm\n",
    "    p_size    = 3.75 # micron\n",
    "    \n",
    "    # Define nearest prescale and count indices \n",
    "    near_scale, near_count = 0, 0\n",
    "\n",
    "    # Declaring a variable to store the minimum absolute difference \n",
    "    delta   = float('inf') \n",
    "    \n",
    "    if timer==0:\n",
    "        # Pre scaler values\n",
    "        pre_scale = np.array([1, 8, 64, 256, 1024])\n",
    "        \n",
    "        # Acceptable count value\n",
    "        count_1   = np.arange(1, 257, 1)\n",
    "        count_2   = np.arange(1, 1025, 1)\n",
    "        \n",
    "        for i in range(len(pre_scale)):\n",
    "            for j in range(len(count_1)):\n",
    "                for k in range(len(count_2)):\n",
    "                    # Finding the value\n",
    "                    time = res_t * pre_scale[i] * count_1[j] * count_2[k] / 1e6\n",
    "\n",
    "                    # Updating the index of the answer if new absolute difference is less than delta\n",
    "                    if abs(time - value) < delta: \n",
    "                        delta = abs(time - value) \n",
    "                        near_scale, near_count_1, near_count_2 = i, j, k\n",
    "\n",
    "        # Calculate pixel scale\n",
    "        p_scale = 206265. * p_size / f_tele / 1000. # arcseconds per pixel\n",
    "\n",
    "        # Calculate nearest value (miliseconds)\n",
    "        result = res_t * pre_scale[near_scale] * count_1[near_count_1]  * count_2[near_count_2] / 1e6\n",
    "\n",
    "        # Calculate error of calculated over required values (percent)\n",
    "        error = delta / value * 100.\n",
    "\n",
    "        # Calculate error of calculated over required values (arcseconds per hour)\n",
    "        err_angle = 360. * 3600. * error / 100. / 24\n",
    "\n",
    "        # Calculate error of calculated over required values (pixels per hour)\n",
    "        err_pixel = err_angle / p_scale\n",
    "\n",
    "        param = [timer, pre_scale[near_scale], count_1[near_count_1], count_2[near_count_2], result, delta, error, err_angle, err_pixel]\n",
    "\n",
    "        print(\"Value to be reached = %.8f ms \\n\" %(value))\n",
    "        print(\"Timer = %i\" %(timer))\n",
    "        print(\"\\nResult!\")\n",
    "        print(\"Nearest prescaler = %i\" %(pre_scale[near_scale]))\n",
    "        print(\"Nearest count = %i\" %(count_1[near_count_1]))\n",
    "        print(\"Looping = %i\" %(count_2[near_count_2]))\n",
    "        print(\"Nearest value with 16MHz clock = %.8f ms\" %(result))\n",
    "        print(\"Difference of required and calculated time = %.8f ms\" %(delta))\n",
    "        print(\"Difference ratio = %.5f percent\" %(error))\n",
    "        print(\"Difference rate = %.5f arcsec per hour\" %(err_angle))\n",
    "        print(\"Difference rate = %.5f pixels per hour\" %(err_pixel))\n",
    "\n",
    "    elif timer==1:\n",
    "        # Pre scaler values\n",
    "        pre_scale = np.array([1, 8, 64, 256, 1024])\n",
    "\n",
    "        # Acceptable count value\n",
    "        count   = np.arange(1, 65537, 1)\n",
    "        \n",
    "        for i in range(len(pre_scale)):\n",
    "            for j in range(len(count)):\n",
    "                # Finding the value\n",
    "                time = res_t * pre_scale[i] * count[j] / 1e6\n",
    "\n",
    "                # Updating the index of the answer if new absolute difference is less than delta\n",
    "                if abs(time - value) < delta: \n",
    "                    delta = abs(time - value) \n",
    "                    near_scale, near_count = i, j\n",
    "\n",
    "        # Calculate pixel scale\n",
    "        p_scale = 206265. * p_size / f_tele / 1000. # arcseconds per pixel\n",
    "\n",
    "        # Calculate nearest value (miliseconds)\n",
    "        result = res_t * pre_scale[near_scale] * count[near_count] / 1e6\n",
    "\n",
    "        # Calculate error of calculated over required values (percent)\n",
    "        error = delta / value * 100.\n",
    "\n",
    "        # Calculate error of calculated over required values (arcseconds per hour)\n",
    "        err_angle = 360. * 3600. * error / 100. / 24\n",
    "\n",
    "        # Calculate error of calculated over required values (pixels per hour)\n",
    "        err_pixel = err_angle / p_scale\n",
    "\n",
    "        param = [timer, pre_scale[near_scale], count[near_count], result, delta, error, err_angle, err_pixel]\n",
    "\n",
    "        print(\"Value to be reached = %.8f ms \\n\" %(value))\n",
    "        print(\"Timer = %i\" %(timer))\n",
    "        print(\"\\nResult!\")\n",
    "        print(\"Nearest prescaler = %i\" %(pre_scale[near_scale]))\n",
    "        print(\"Nearest count = %i\" %(count[near_count]))\n",
    "        print(\"Nearest value with 16MHz clock = %.8f ms\" %(result))\n",
    "        print(\"Difference of required and calculated time = %.8f ms\" %(delta))\n",
    "        print(\"Difference ratio = %.5f percent\" %(error))\n",
    "        print(\"Difference rate = %.5f arcsec per hour\" %(err_angle))\n",
    "        print(\"Difference rate = %.5f pixels per hour\" %(err_pixel))\n",
    "\n",
    "                    \n",
    "    elif timer==2:\n",
    "        # Pre scaler values\n",
    "        pre_scale = np.array([1, 8, 32, 64, 128, 256, 1024])\n",
    "        \n",
    "        # Acceptable count value\n",
    "        count_1   = np.arange(1, 257, 1)\n",
    "        count_2   = np.arange(1, 1025, 1)\n",
    "        \n",
    "        for i in range(len(pre_scale)):\n",
    "            for j in range(len(count_1)):\n",
    "                for k in range(len(count_2)):\n",
    "                    # Finding the value\n",
    "                    time = res_t * pre_scale[i] * count_1[j] * count_2[k] / 1e6\n",
    "\n",
    "                    # Updating the index of the answer if new absolute difference is less than delta\n",
    "                    if abs(time - value) < delta: \n",
    "                        delta = abs(time - value) \n",
    "                        near_scale, near_count_1, near_count_2 = i, j, k\n",
    "\n",
    "        # Calculate pixel scale\n",
    "        p_scale = 206265. * p_size / f_tele / 1000. # arcseconds per pixel\n",
    "\n",
    "        # Calculate nearest value (miliseconds)\n",
    "        result = res_t * pre_scale[near_scale] * count_1[near_count_1]  * count_2[near_count_2] / 1e6\n",
    "\n",
    "        # Calculate error of calculated over required values (percent)\n",
    "        error = delta / value * 100.\n",
    "\n",
    "        # Calculate error of calculated over required values (arcseconds per hour)\n",
    "        err_angle = 360. * 3600. * error / 100. / 24\n",
    "\n",
    "        # Calculate error of calculated over required values (pixels per hour)\n",
    "        err_pixel = err_angle / p_scale\n",
    "\n",
    "        param = [timer, pre_scale[near_scale], count_1[near_count_1], count_2[near_count_2], result, delta, error, err_angle, err_pixel]\n",
    "\n",
    "        print(\"Value to be reached = %.8f ms \\n\" %(value))\n",
    "        print(\"Timer = %i\" %(timer))\n",
    "        print(\"\\nResult!\")\n",
    "        print(\"Nearest prescaler = %i\" %(pre_scale[near_scale]))\n",
    "        print(\"Nearest count = %i\" %(count_1[near_count_1]))\n",
    "        print(\"Looping = %i\" %(count_2[near_count_2]))\n",
    "        print(\"Nearest value with 16MHz clock = %.8f ms\" %(result))\n",
    "        print(\"Difference of required and calculated time = %.8f ms\" %(delta))\n",
    "        print(\"Difference ratio = %.5f percent\" %(error))\n",
    "        print(\"Difference rate = %.5f arcsec per hour\" %(err_angle))\n",
    "        print(\"Difference rate = %.5f pixels per hour\" %(err_pixel))\n",
    "\n",
    "    else:\n",
    "        raise ValueError(\"Salah input nilai Timer!\")\n",
    "        \n",
    "    return param"
   ]
  },
  {
   "cell_type": "markdown",
   "metadata": {},
   "source": [
    "3. Definisikan nilai yang ingin dicapai"
   ]
  },
  {
   "cell_type": "code",
   "execution_count": 37,
   "metadata": {},
   "outputs": [],
   "source": [
    "sidereal = 1994.53913264/2.  # miliseconds\n",
    "mars     = 996.7291988 # miliseconds"
   ]
  },
  {
   "cell_type": "markdown",
   "metadata": {},
   "source": [
    "4. Menghitung nilai yang ingin dicapai (sideris)"
   ]
  },
  {
   "cell_type": "code",
   "execution_count": 38,
   "metadata": {},
   "outputs": [
    {
     "name": "stdout",
     "output_type": "stream",
     "text": [
      "Value to be reached = 997.26956632 ms \n",
      "\n",
      "Timer = 0\n",
      "\n",
      "Result!\n",
      "Nearest prescaler = 256\n",
      "Nearest count = 157\n",
      "Looping = 397\n",
      "Nearest value with 16MHz clock = 997.26400000 ms\n",
      "Difference of required and calculated time = 0.00556632 ms\n",
      "Difference ratio = 0.00056 percent\n",
      "Difference rate = 0.30140 arcsec per hour\n",
      "Difference rate = 4.28633 pixels per hour\n"
     ]
    }
   ],
   "source": [
    "sidereal_res = find_nearest_val(sidereal, timer=0)"
   ]
  },
  {
   "cell_type": "code",
   "execution_count": 39,
   "metadata": {},
   "outputs": [
    {
     "name": "stdout",
     "output_type": "stream",
     "text": [
      "Value to be reached = 997.26956632 ms \n",
      "\n",
      "Timer = 1\n",
      "\n",
      "Result!\n",
      "Nearest prescaler = 256\n",
      "Nearest count = 62329\n",
      "Nearest value with 16MHz clock = 997.26400000 ms\n",
      "Difference of required and calculated time = 0.00556632 ms\n",
      "Difference ratio = 0.00056 percent\n",
      "Difference rate = 0.30140 arcsec per hour\n",
      "Difference rate = 4.28633 pixels per hour\n"
     ]
    }
   ],
   "source": [
    "sidereal_res = find_nearest_val(sidereal, timer=1)"
   ]
  },
  {
   "cell_type": "code",
   "execution_count": 40,
   "metadata": {},
   "outputs": [
    {
     "name": "stdout",
     "output_type": "stream",
     "text": [
      "Value to be reached = 997.26956632 ms \n",
      "\n",
      "Timer = 2\n",
      "\n",
      "Result!\n",
      "Nearest prescaler = 128\n",
      "Nearest count = 171\n",
      "Looping = 729\n",
      "Nearest value with 16MHz clock = 997.27200000 ms\n",
      "Difference of required and calculated time = 0.00243368 ms\n",
      "Difference ratio = 0.00024 percent\n",
      "Difference rate = 0.13178 arcsec per hour\n",
      "Difference rate = 1.87405 pixels per hour\n"
     ]
    }
   ],
   "source": [
    "sidereal_res = find_nearest_val(sidereal, timer=2)"
   ]
  },
  {
   "cell_type": "markdown",
   "metadata": {},
   "source": [
    "5. Menghitung nilai yang ingin dicapai (mars)"
   ]
  },
  {
   "cell_type": "code",
   "execution_count": 17,
   "metadata": {},
   "outputs": [
    {
     "name": "stdout",
     "output_type": "stream",
     "text": [
      "Value to be reached = 1993.45839760 ms \n",
      "\n",
      "Timer = 1\n",
      "\n",
      "Result!\n",
      "Nearest prescaler = 1024\n",
      "Nearest count = 31148\n",
      "Nearest value with 16MHz clock = 1993.47200000 ms\n",
      "Difference of required and calculated time = 0.01360240 ms\n",
      "Difference ratio = 0.00068 percent\n",
      "Difference rate = 0.36847 arcsec per hour\n",
      "Difference rate = 5.24008 pixels per hour\n"
     ]
    }
   ],
   "source": [
    "mars_res = find_nearest_val(mars, timer=1)"
   ]
  },
  {
   "cell_type": "code",
   "execution_count": null,
   "metadata": {},
   "outputs": [],
   "source": []
  }
 ],
 "metadata": {
  "kernelspec": {
   "display_name": "Python 3",
   "language": "python",
   "name": "python3"
  },
  "language_info": {
   "codemirror_mode": {
    "name": "ipython",
    "version": 3
   },
   "file_extension": ".py",
   "mimetype": "text/x-python",
   "name": "python",
   "nbconvert_exporter": "python",
   "pygments_lexer": "ipython3",
   "version": "3.8.8"
  }
 },
 "nbformat": 4,
 "nbformat_minor": 4
}
